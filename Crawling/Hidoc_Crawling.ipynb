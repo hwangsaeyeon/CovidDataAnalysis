{
  "nbformat": 4,
  "nbformat_minor": 0,
  "metadata": {
    "colab": {
      "provenance": [],
      "mount_file_id": "1KjO3FVSmmJ6b7oP3XvdqcywjYX9FjcWL",
      "authorship_tag": "ABX9TyMB1sGHBfWoRY7ehz7UonQ/",
      "include_colab_link": true
    },
    "kernelspec": {
      "name": "python3",
      "display_name": "Python 3"
    },
    "language_info": {
      "name": "python"
    }
  },
  "cells": [
    {
      "cell_type": "markdown",
      "metadata": {
        "id": "view-in-github",
        "colab_type": "text"
      },
      "source": [
        "<a href=\"https://colab.research.google.com/github/hwangsaeyeon/CovidDataAnalysis/blob/main/Crawling/Hidoc_Crawling.ipynb\" target=\"_parent\"><img src=\"https://colab.research.google.com/assets/colab-badge.svg\" alt=\"Open In Colab\"/></a>"
      ]
    },
    {
      "cell_type": "code",
      "metadata": {
        "colab": {
          "base_uri": "https://localhost:8080/"
        },
        "id": "3pG2cIfXe_wN",
        "outputId": "03e21aae-f770-4354-fbd3-e5359e4c4574"
      },
      "source": [
        "!pip install selenium\n",
        "#코랩에서 구글드라이버 연동\n",
        "!apt-get update\n",
        "!apt install chromium-chromedriver\n",
        "#패키지 호출\n",
        "from selenium import webdriver\n",
        "from bs4 import BeautifulSoup\n",
        "import time\n",
        "from selenium.webdriver.common.keys import Keys\n",
        "from urllib.request import urlopen\n",
        "from urllib.parse import quote_plus\n",
        "from selenium.webdriver.common.keys import Keys\n",
        "import time\n",
        "import sys"
      ],
      "execution_count": null,
      "outputs": [
        {
          "output_type": "stream",
          "name": "stdout",
          "text": [
            "Collecting selenium\n",
            "  Downloading selenium-3.141.0-py2.py3-none-any.whl (904 kB)\n",
            "\u001b[?25l\r\u001b[K     |▍                               | 10 kB 6.7 MB/s eta 0:00:01\r\u001b[K     |▊                               | 20 kB 6.6 MB/s eta 0:00:01\r\u001b[K     |█                               | 30 kB 6.0 MB/s eta 0:00:01\r\u001b[K     |█▌                              | 40 kB 4.4 MB/s eta 0:00:01\r\u001b[K     |█▉                              | 51 kB 4.2 MB/s eta 0:00:01\r\u001b[K     |██▏                             | 61 kB 4.6 MB/s eta 0:00:01\r\u001b[K     |██▌                             | 71 kB 4.6 MB/s eta 0:00:01\r\u001b[K     |███                             | 81 kB 5.2 MB/s eta 0:00:01\r\u001b[K     |███▎                            | 92 kB 4.6 MB/s eta 0:00:01\r\u001b[K     |███▋                            | 102 kB 4.5 MB/s eta 0:00:01\r\u001b[K     |████                            | 112 kB 4.5 MB/s eta 0:00:01\r\u001b[K     |████▍                           | 122 kB 4.5 MB/s eta 0:00:01\r\u001b[K     |████▊                           | 133 kB 4.5 MB/s eta 0:00:01\r\u001b[K     |█████                           | 143 kB 4.5 MB/s eta 0:00:01\r\u001b[K     |█████▍                          | 153 kB 4.5 MB/s eta 0:00:01\r\u001b[K     |█████▉                          | 163 kB 4.5 MB/s eta 0:00:01\r\u001b[K     |██████▏                         | 174 kB 4.5 MB/s eta 0:00:01\r\u001b[K     |██████▌                         | 184 kB 4.5 MB/s eta 0:00:01\r\u001b[K     |██████▉                         | 194 kB 4.5 MB/s eta 0:00:01\r\u001b[K     |███████▎                        | 204 kB 4.5 MB/s eta 0:00:01\r\u001b[K     |███████▋                        | 215 kB 4.5 MB/s eta 0:00:01\r\u001b[K     |████████                        | 225 kB 4.5 MB/s eta 0:00:01\r\u001b[K     |████████▎                       | 235 kB 4.5 MB/s eta 0:00:01\r\u001b[K     |████████▊                       | 245 kB 4.5 MB/s eta 0:00:01\r\u001b[K     |█████████                       | 256 kB 4.5 MB/s eta 0:00:01\r\u001b[K     |█████████▍                      | 266 kB 4.5 MB/s eta 0:00:01\r\u001b[K     |█████████▉                      | 276 kB 4.5 MB/s eta 0:00:01\r\u001b[K     |██████████▏                     | 286 kB 4.5 MB/s eta 0:00:01\r\u001b[K     |██████████▌                     | 296 kB 4.5 MB/s eta 0:00:01\r\u001b[K     |██████████▉                     | 307 kB 4.5 MB/s eta 0:00:01\r\u001b[K     |███████████▎                    | 317 kB 4.5 MB/s eta 0:00:01\r\u001b[K     |███████████▋                    | 327 kB 4.5 MB/s eta 0:00:01\r\u001b[K     |████████████                    | 337 kB 4.5 MB/s eta 0:00:01\r\u001b[K     |████████████▎                   | 348 kB 4.5 MB/s eta 0:00:01\r\u001b[K     |████████████▊                   | 358 kB 4.5 MB/s eta 0:00:01\r\u001b[K     |█████████████                   | 368 kB 4.5 MB/s eta 0:00:01\r\u001b[K     |█████████████▍                  | 378 kB 4.5 MB/s eta 0:00:01\r\u001b[K     |█████████████▊                  | 389 kB 4.5 MB/s eta 0:00:01\r\u001b[K     |██████████████▏                 | 399 kB 4.5 MB/s eta 0:00:01\r\u001b[K     |██████████████▌                 | 409 kB 4.5 MB/s eta 0:00:01\r\u001b[K     |██████████████▉                 | 419 kB 4.5 MB/s eta 0:00:01\r\u001b[K     |███████████████▏                | 430 kB 4.5 MB/s eta 0:00:01\r\u001b[K     |███████████████▋                | 440 kB 4.5 MB/s eta 0:00:01\r\u001b[K     |████████████████                | 450 kB 4.5 MB/s eta 0:00:01\r\u001b[K     |████████████████▎               | 460 kB 4.5 MB/s eta 0:00:01\r\u001b[K     |████████████████▋               | 471 kB 4.5 MB/s eta 0:00:01\r\u001b[K     |█████████████████               | 481 kB 4.5 MB/s eta 0:00:01\r\u001b[K     |█████████████████▍              | 491 kB 4.5 MB/s eta 0:00:01\r\u001b[K     |█████████████████▊              | 501 kB 4.5 MB/s eta 0:00:01\r\u001b[K     |██████████████████▏             | 512 kB 4.5 MB/s eta 0:00:01\r\u001b[K     |██████████████████▌             | 522 kB 4.5 MB/s eta 0:00:01\r\u001b[K     |██████████████████▉             | 532 kB 4.5 MB/s eta 0:00:01\r\u001b[K     |███████████████████▏            | 542 kB 4.5 MB/s eta 0:00:01\r\u001b[K     |███████████████████▋            | 552 kB 4.5 MB/s eta 0:00:01\r\u001b[K     |████████████████████            | 563 kB 4.5 MB/s eta 0:00:01\r\u001b[K     |████████████████████▎           | 573 kB 4.5 MB/s eta 0:00:01\r\u001b[K     |████████████████████▋           | 583 kB 4.5 MB/s eta 0:00:01\r\u001b[K     |█████████████████████           | 593 kB 4.5 MB/s eta 0:00:01\r\u001b[K     |█████████████████████▍          | 604 kB 4.5 MB/s eta 0:00:01\r\u001b[K     |█████████████████████▊          | 614 kB 4.5 MB/s eta 0:00:01\r\u001b[K     |██████████████████████          | 624 kB 4.5 MB/s eta 0:00:01\r\u001b[K     |██████████████████████▌         | 634 kB 4.5 MB/s eta 0:00:01\r\u001b[K     |██████████████████████▉         | 645 kB 4.5 MB/s eta 0:00:01\r\u001b[K     |███████████████████████▏        | 655 kB 4.5 MB/s eta 0:00:01\r\u001b[K     |███████████████████████▌        | 665 kB 4.5 MB/s eta 0:00:01\r\u001b[K     |████████████████████████        | 675 kB 4.5 MB/s eta 0:00:01\r\u001b[K     |████████████████████████▎       | 686 kB 4.5 MB/s eta 0:00:01\r\u001b[K     |████████████████████████▋       | 696 kB 4.5 MB/s eta 0:00:01\r\u001b[K     |█████████████████████████       | 706 kB 4.5 MB/s eta 0:00:01\r\u001b[K     |█████████████████████████▍      | 716 kB 4.5 MB/s eta 0:00:01\r\u001b[K     |█████████████████████████▊      | 727 kB 4.5 MB/s eta 0:00:01\r\u001b[K     |██████████████████████████      | 737 kB 4.5 MB/s eta 0:00:01\r\u001b[K     |██████████████████████████▍     | 747 kB 4.5 MB/s eta 0:00:01\r\u001b[K     |██████████████████████████▉     | 757 kB 4.5 MB/s eta 0:00:01\r\u001b[K     |███████████████████████████▏    | 768 kB 4.5 MB/s eta 0:00:01\r\u001b[K     |███████████████████████████▌    | 778 kB 4.5 MB/s eta 0:00:01\r\u001b[K     |████████████████████████████    | 788 kB 4.5 MB/s eta 0:00:01\r\u001b[K     |████████████████████████████▎   | 798 kB 4.5 MB/s eta 0:00:01\r\u001b[K     |████████████████████████████▋   | 808 kB 4.5 MB/s eta 0:00:01\r\u001b[K     |█████████████████████████████   | 819 kB 4.5 MB/s eta 0:00:01\r\u001b[K     |█████████████████████████████▍  | 829 kB 4.5 MB/s eta 0:00:01\r\u001b[K     |█████████████████████████████▊  | 839 kB 4.5 MB/s eta 0:00:01\r\u001b[K     |██████████████████████████████  | 849 kB 4.5 MB/s eta 0:00:01\r\u001b[K     |██████████████████████████████▍ | 860 kB 4.5 MB/s eta 0:00:01\r\u001b[K     |██████████████████████████████▉ | 870 kB 4.5 MB/s eta 0:00:01\r\u001b[K     |███████████████████████████████▏| 880 kB 4.5 MB/s eta 0:00:01\r\u001b[K     |███████████████████████████████▌| 890 kB 4.5 MB/s eta 0:00:01\r\u001b[K     |███████████████████████████████▉| 901 kB 4.5 MB/s eta 0:00:01\r\u001b[K     |████████████████████████████████| 904 kB 4.5 MB/s \n",
            "\u001b[?25hRequirement already satisfied: urllib3 in /usr/local/lib/python3.7/dist-packages (from selenium) (1.24.3)\n",
            "Installing collected packages: selenium\n",
            "Successfully installed selenium-3.141.0\n",
            "Get:1 http://security.ubuntu.com/ubuntu bionic-security InRelease [88.7 kB]\n",
            "Get:2 https://cloud.r-project.org/bin/linux/ubuntu bionic-cran40/ InRelease [3,626 B]\n",
            "Ign:3 https://developer.download.nvidia.com/compute/cuda/repos/ubuntu1804/x86_64  InRelease\n",
            "Get:4 http://ppa.launchpad.net/c2d4u.team/c2d4u4.0+/ubuntu bionic InRelease [15.9 kB]\n",
            "Ign:5 https://developer.download.nvidia.com/compute/machine-learning/repos/ubuntu1804/x86_64  InRelease\n",
            "Hit:6 https://developer.download.nvidia.com/compute/cuda/repos/ubuntu1804/x86_64  Release\n",
            "Hit:7 http://archive.ubuntu.com/ubuntu bionic InRelease\n",
            "Hit:8 https://developer.download.nvidia.com/compute/machine-learning/repos/ubuntu1804/x86_64  Release\n",
            "Get:9 http://archive.ubuntu.com/ubuntu bionic-updates InRelease [88.7 kB]\n",
            "Get:10 http://security.ubuntu.com/ubuntu bionic-security/universe amd64 Packages [1,430 kB]\n",
            "Hit:11 http://ppa.launchpad.net/cran/libgit2/ubuntu bionic InRelease\n",
            "Get:12 http://archive.ubuntu.com/ubuntu bionic-backports InRelease [74.6 kB]\n",
            "Hit:13 http://ppa.launchpad.net/deadsnakes/ppa/ubuntu bionic InRelease\n",
            "Hit:14 http://ppa.launchpad.net/graphics-drivers/ppa/ubuntu bionic InRelease\n",
            "Get:17 http://ppa.launchpad.net/c2d4u.team/c2d4u4.0+/ubuntu bionic/main Sources [1,802 kB]\n",
            "Get:18 http://archive.ubuntu.com/ubuntu bionic-updates/main amd64 Packages [2,800 kB]\n",
            "Get:19 http://ppa.launchpad.net/c2d4u.team/c2d4u4.0+/ubuntu bionic/main amd64 Packages [922 kB]\n",
            "Get:20 http://archive.ubuntu.com/ubuntu bionic-updates/universe amd64 Packages [2,208 kB]\n",
            "Fetched 9,435 kB in 3s (2,859 kB/s)\n",
            "Reading package lists... Done\n",
            "Reading package lists... Done\n",
            "Building dependency tree       \n",
            "Reading state information... Done\n",
            "The following additional packages will be installed:\n",
            "  chromium-browser chromium-browser-l10n chromium-codecs-ffmpeg-extra\n",
            "Suggested packages:\n",
            "  webaccounts-chromium-extension unity-chromium-extension\n",
            "The following NEW packages will be installed:\n",
            "  chromium-browser chromium-browser-l10n chromium-chromedriver\n",
            "  chromium-codecs-ffmpeg-extra\n",
            "0 upgraded, 4 newly installed, 0 to remove and 37 not upgraded.\n",
            "Need to get 92.6 MB of archives.\n",
            "After this operation, 317 MB of additional disk space will be used.\n",
            "Get:1 http://archive.ubuntu.com/ubuntu bionic-updates/universe amd64 chromium-codecs-ffmpeg-extra amd64 93.0.4577.63-0ubuntu0.18.04.1 [1,135 kB]\n",
            "Get:2 http://archive.ubuntu.com/ubuntu bionic-updates/universe amd64 chromium-browser amd64 93.0.4577.63-0ubuntu0.18.04.1 [82.4 MB]\n",
            "Get:3 http://archive.ubuntu.com/ubuntu bionic-updates/universe amd64 chromium-browser-l10n all 93.0.4577.63-0ubuntu0.18.04.1 [4,133 kB]\n",
            "Get:4 http://archive.ubuntu.com/ubuntu bionic-updates/universe amd64 chromium-chromedriver amd64 93.0.4577.63-0ubuntu0.18.04.1 [4,961 kB]\n",
            "Fetched 92.6 MB in 4s (23.8 MB/s)\n",
            "Selecting previously unselected package chromium-codecs-ffmpeg-extra.\n",
            "(Reading database ... 155047 files and directories currently installed.)\n",
            "Preparing to unpack .../chromium-codecs-ffmpeg-extra_93.0.4577.63-0ubuntu0.18.04.1_amd64.deb ...\n",
            "Unpacking chromium-codecs-ffmpeg-extra (93.0.4577.63-0ubuntu0.18.04.1) ...\n",
            "Selecting previously unselected package chromium-browser.\n",
            "Preparing to unpack .../chromium-browser_93.0.4577.63-0ubuntu0.18.04.1_amd64.deb ...\n",
            "Unpacking chromium-browser (93.0.4577.63-0ubuntu0.18.04.1) ...\n",
            "Selecting previously unselected package chromium-browser-l10n.\n",
            "Preparing to unpack .../chromium-browser-l10n_93.0.4577.63-0ubuntu0.18.04.1_all.deb ...\n",
            "Unpacking chromium-browser-l10n (93.0.4577.63-0ubuntu0.18.04.1) ...\n",
            "Selecting previously unselected package chromium-chromedriver.\n",
            "Preparing to unpack .../chromium-chromedriver_93.0.4577.63-0ubuntu0.18.04.1_amd64.deb ...\n",
            "Unpacking chromium-chromedriver (93.0.4577.63-0ubuntu0.18.04.1) ...\n",
            "Setting up chromium-codecs-ffmpeg-extra (93.0.4577.63-0ubuntu0.18.04.1) ...\n",
            "Setting up chromium-browser (93.0.4577.63-0ubuntu0.18.04.1) ...\n",
            "update-alternatives: using /usr/bin/chromium-browser to provide /usr/bin/x-www-browser (x-www-browser) in auto mode\n",
            "update-alternatives: using /usr/bin/chromium-browser to provide /usr/bin/gnome-www-browser (gnome-www-browser) in auto mode\n",
            "Setting up chromium-chromedriver (93.0.4577.63-0ubuntu0.18.04.1) ...\n",
            "Setting up chromium-browser-l10n (93.0.4577.63-0ubuntu0.18.04.1) ...\n",
            "Processing triggers for man-db (2.8.3-2ubuntu0.1) ...\n",
            "Processing triggers for hicolor-icon-theme (0.17-2) ...\n",
            "Processing triggers for mime-support (3.60ubuntu1) ...\n",
            "Processing triggers for libc-bin (2.27-3ubuntu1.3) ...\n",
            "/sbin/ldconfig.real: /usr/local/lib/python3.7/dist-packages/ideep4py/lib/libmkldnn.so.0 is not a symbolic link\n",
            "\n"
          ]
        }
      ]
    },
    {
      "cell_type": "code",
      "metadata": {
        "id": "UkvcYhCkqwIf"
      },
      "source": [
        "chrome_options = webdriver.ChromeOptions()\n",
        "chrome_options.add_argument('--headless')\n",
        "chrome_options.add_argument('--no-sandbox')\n",
        "chrome_options.add_argument('--disable-dev-shm-usage')\n",
        "\n",
        "driver = webdriver.Chrome('chromedriver', options=chrome_options)"
      ],
      "execution_count": null,
      "outputs": []
    },
    {
      "cell_type": "code",
      "metadata": {
        "id": "ChM9LUaDB5mP"
      },
      "source": [
        "title_set=[]\n",
        "question_set=[]\n",
        "answer_set=[]\n",
        "doctor_set=[]\n",
        "date_set=[]\n",
        "for i in range(1,1000):\n",
        "  driver.implicitly_wait(5)\n",
        "  hidoc_path='https://www.hidoc.co.kr/healthqna/part/list?code=PMG00&page={0}'.format(i)\n",
        "  driver.get(hidoc_path)\n",
        "\n",
        "  html = driver.page_source # 페이지의 elements모두 가져오기\n",
        "  soup = BeautifulSoup(html, 'html.parser') # BeautifulSoup사용하기\n",
        "\n",
        "  path=[] \n",
        "  for href in soup.find_all(\"div\", class_=\"main_head\"):\n",
        "    path.append(\"https://www.hidoc.co.kr/healthqna/part/\"+href.find(\"a\")[\"href\"])\n",
        "\n",
        "  for i in range(len(path)):\n",
        "    driver.get(path[i])\n",
        "\n",
        "    html = driver.page_source # 페이지의 elements모두 가져오기\n",
        "    soup = BeautifulSoup(html, 'html.parser') # BeautifulSoup사용하기\n",
        "\n",
        "    title = soup.select('#hidocBody > div.health_view > div.box_type1.view_question > div.inner > strong')\n",
        "    for n in title:\n",
        "      title_set.append(n.text.strip())\n",
        "\n",
        "    question = soup.select('#hidocBody > div.health_view > div.box_type1.view_question > div.inner > div.desc > p')\n",
        "    for n in question:\n",
        "      question_set.append(n.text.strip())\n",
        "\n",
        "    answer = soup.select('#hidocBody > div.health_view > div.view_answer > div.box_type1.hidoc_answer > div.answer_body > div > div:nth-of-type(1)')\n",
        "    for n in answer:\n",
        "      answer_set.append(n.text.strip())\n",
        "    \n",
        "    doctor = soup.select('#hidocBody > div.health_view > div.view_answer > div.box_type1.hidoc_answer > div.answer_head > div.doctor_clinic')\n",
        "    for n in doctor:\n",
        "      doctor_set.append(n.text.strip())\n",
        "\n",
        "    date = soup.select('#hidocBody > div.health_view > div.box_type1.view_question > div.inner > div.clear_g > div.user_info > span')\n",
        "    for n in date:\n",
        "      date_set.append(n.text.strip())"
      ],
      "execution_count": null,
      "outputs": []
    },
    {
      "cell_type": "code",
      "metadata": {
        "id": "rwx8lHbfqEP8"
      },
      "source": [
        "answer_set"
      ],
      "execution_count": null,
      "outputs": []
    }
  ]
}